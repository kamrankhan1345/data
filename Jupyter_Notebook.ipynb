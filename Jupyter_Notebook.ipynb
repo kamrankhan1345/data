{
 "cells": [
  {
   "cell_type": "markdown",
   "metadata": {},
   "source": [
    "<center>\n",
    "    <img src=\"https://cf-courses-data.s3.us.cloud-object-storage.appdomain.cloud/IBMDeveloperSkillsNetwork-DS0105EN-SkillsNetwork/labs/Module2/images/SN_web_lightmode.png\" width=\"300\" alt=\"cognitiveclass.ai logo\">\n",
    "</center>\n"
   ]
  },
  {
   "cell_type": "markdown",
   "metadata": {},
   "source": [
    "#### Add your code below following the instructions given in the course\n"
   ]
  },
  {
   "cell_type": "markdown",
   "metadata": {
    "tags": []
   },
   "source": [
    "# Notebook"
   ]
  },
  {
   "cell_type": "markdown",
   "metadata": {},
   "source": [
    "## Introduction\n",
    "\n",
    "Welcome to this notebook!\n",
    "\n",
    "this is my practice notebook here i am trying to learn data science \n"
   ]
  },
  {
   "cell_type": "markdown",
   "metadata": {},
   "source": [
    "## Data Science Languages\n",
    "\n",
    "Data science involves working with large datasets, performing statistical analysis, and building predictive models. Here are some popular programming languages used in data science:\n",
    "\n",
    "- **Python**: Python is widely used in the data science community due to its simplicity, versatility, and rich ecosystem of libraries such as NumPy, Pandas, Matplotlib, and scikit-learn.\n",
    "\n",
    "- **R**: R is a statistical programming language that offers a wide range of packages for statistical modeling, data manipulation, and visualization. It is particularly popular among statisticians and researchers.\n",
    "\n",
    "- **SQL**: Structured Query Language (SQL) is essential for working with relational databases. It allows you to query, manipulate, and analyze data stored in databases such as MySQL, PostgreSQL, and Oracle.\n",
    "\n",
    "- **Julia**: Julia is a high-level, high-performance programming language specifically designed for numerical and scientific computing. It combines the ease of use of Python with the speed of low-level languages like C and Fortran.\n",
    "\n",
    "- **Scala**: Scala is a versatile language that runs on the Java Virtual Machine (JVM). It is commonly used in big data frameworks like Apache Spark, providing distributed data processing capabilities.\n",
    "\n",
    "\n"
   ]
  },
  {
   "cell_type": "markdown",
   "metadata": {
    "tags": []
   },
   "source": [
    "## Data Science Libraries\n",
    "\n",
    "Jupyter Notebook is a powerful tool for data science, and there are numerous libraries available that can enhance your data analysis and machine learning workflows. Here are some popular data science libraries:\n",
    "\n",
    "- **NumPy**: NumPy is a fundamental library for numerical computing in Python. It provides support for large, multi-dimensional arrays and a wide range of mathematical functions.\n",
    "\n",
    "- **Pandas**: Pandas is a powerful library for data manipulation and analysis. It offers data structures like DataFrames that allow for efficient handling and cleaning of structured data.\n",
    "\n",
    "- **Matplotlib**: Matplotlib is a versatile plotting library that enables the creation of various types of static, animated, and interactive visualizations.\n",
    "\n",
    "- **Seaborn**: Seaborn is a statistical data visualization library that provides a high-level interface for creating informative and visually appealing plots.\n",
    "\n",
    "- **scikit-learn**: scikit-learn is a comprehensive machine learning library that offers a wide range of algorithms for classification, regression, clustering, and more. It also provides tools for data preprocessing, model evaluation, and model selection.\n",
    "\n",
    "- **TensorFlow**: TensorFlow is a popular deep learning framework that allows you to build and train neural networks for various machine learning tasks.\n",
    "\n",
    "- **PyTorch**: PyTorch is another widely used deep learning framework that offers dynamic computational graphs and a flexible development environment.\n",
    "\n",
    "- **Keras**: Keras is a high-level neural networks library that provides a user-friendly interface to build and train deep learning models. It can be used with TensorFlow or other backend engines.\n",
    "\n",
    "These are just a few examples of data science libraries available in Python. Each library has its own strengths and features, and the choice of library depends on the specific requirements of your data science project.\n",
    "\n",
    "Make sure to explore these libraries and their documentation to leverage their capabilities and enhance your data science workflows!\n"
   ]
  },
  {
   "cell_type": "markdown",
   "metadata": {},
   "source": [
    "## Data Science Tools\n",
    "\n",
    "Data science involves a wide range of tools that help with data manipulation, analysis, visualization, and machine learning. Here's a table showcasing some popular tools used in the field:\n",
    "\n",
    "| Tool          | Description                                |\n",
    "|---------------|--------------------------------------------|\n",
    "| Python        | A versatile programming language widely used in data science. It offers a rich ecosystem of libraries and frameworks. |\n",
    "| R             | A statistical programming language with a vast collection of packages for data analysis and visualization. |\n",
    "| SQL           | A language used for managing and analyzing relational databases. Essential for working with structured data. |\n",
    "| Jupyter Notebook | An interactive computational environment that allows you to create and share documents combining code, text, and visualizations. |\n",
    "| Apache Spark  | An open-source distributed computing system for big data processing and analytics. It provides high-performance data processing capabilities. |\n",
    "| Tableau       | A powerful data visualization tool that enables the creation of interactive dashboards and reports. |\n",
    "| KNIME         | A visual data analytics platform that allows users to create data workflows and perform various data analysis tasks. |\n",
    "| TensorFlow    | An open-source deep learning framework developed by Google for building and training neural networks. |\n",
    "| scikit-learn  | A comprehensive machine learning library in Python that provides tools for data preprocessing, model training, and evaluation. |\n",
    "| PyTorch       | A popular deep learning framework known for its dynamic computational graph and ease of use. |\n",
    "| Power BI      | A business intelligence tool by Microsoft that offers interactive data visualization, reporting, and sharing capabilities. |\n",
    "\n"
   ]
  },
  {
   "cell_type": "markdown",
   "metadata": {},
   "source": [
    "## Arithmetic Expression Examples\n",
    "\n",
    "Arithmetic expressions are mathematical expressions that involve arithmetic operations such as addition, subtraction, multiplication, and division. They are commonly used in programming and data analysis. Here are some examples of arithmetic expressions:\n",
    "\n",
    "1. Addition:\n",
    "   - `2 + 3` equals 5.\n",
    "   - `4.5 + 2.8` equals 7.3.\n",
    "   - `x + y` where `x = 10` and `y = 20` equals 30.\n",
    "\n",
    "2. Subtraction:\n",
    "   - `8 - 5` equals 3.\n",
    "   - `6.7 - 3.2` equals 3.5.\n",
    "   - `x - y` where `x = 15` and `y = 8` equals 7.\n",
    "\n",
    "3. Multiplication:\n",
    "   - `2 * 4` equals 8.\n",
    "   - `3.5 * 2.2` equals 7.7.\n",
    "   - `x * y` where `x = 5` and `y = 6` equals 30.\n",
    "\n",
    "4. Division:\n",
    "   - `10 / 2` equals 5.\n",
    "   - `8.4 / 2.1` equals 4.\n",
    "   - `x / y` where `x = 25` and `y = 5` equals 5.\n",
    "\n",
    "5. Combination of operations:\n",
    "   - `(4 + 5) * 3` equals 27.\n",
    "   - `8 / (2 + 2)` equals 2.\n",
    "   - `(x + y) * z` where `x = 2`, `y = 3`, and `z = 4` equals 20.\n",
    "\n"
   ]
  },
  {
   "cell_type": "code",
   "execution_count": 13,
   "metadata": {
    "tags": []
   },
   "outputs": [
    {
     "name": "stdout",
     "output_type": "stream",
     "text": [
      "Product: 15\n",
      "Sum: 17\n"
     ]
    }
   ],
   "source": [
    "# Multiply and Add Numbers\n",
    "\n",
    "# Multiply two numbers\n",
    "x = 5\n",
    "y = 3\n",
    "product = x * y\n",
    "print(\"Product:\", product)\n",
    "\n",
    "# Add two numbers\n",
    "a = 10\n",
    "b = 7\n",
    "sum = a + b\n",
    "print(\"Sum:\", sum)\n",
    "\n"
   ]
  },
  {
   "cell_type": "code",
   "execution_count": 14,
   "metadata": {
    "tags": []
   },
   "outputs": [
    {
     "name": "stdout",
     "output_type": "stream",
     "text": [
      "150 minutes is equal to 2.5 hours.\n"
     ]
    }
   ],
   "source": [
    "# Convert Minutes to Hours\n",
    "\n",
    "def convert_minutes_to_hours(minutes):\n",
    "    hours = minutes / 60\n",
    "    return hours\n",
    "\n",
    "# Example usage\n",
    "minutes = 150\n",
    "converted_hours = convert_minutes_to_hours(minutes)\n",
    "print(f\"{minutes} minutes is equal to {converted_hours} hours.\")\n"
   ]
  },
  {
   "cell_type": "markdown",
   "metadata": {},
   "source": [
    "## Objectives\n",
    "\n",
    "\n",
    "\n",
    "1. **Objective no 1**:this is my first objective. \n",
    "\n",
    "2. **Objective No 2**: this is my second objective.\n",
    "\n"
   ]
  },
  {
   "cell_type": "markdown",
   "metadata": {},
   "source": [
    "## Author\n",
    "\n",
    "This notebook was created by **[Kamran Khan]**."
   ]
  },
  {
   "cell_type": "code",
   "execution_count": null,
   "metadata": {},
   "outputs": [],
   "source": []
  }
 ],
 "metadata": {
  "kernelspec": {
   "display_name": "Python",
   "language": "python",
   "name": "conda-env-python-py"
  },
  "language_info": {
   "codemirror_mode": {
    "name": "ipython",
    "version": 3
   },
   "file_extension": ".py",
   "mimetype": "text/x-python",
   "name": "python",
   "nbconvert_exporter": "python",
   "pygments_lexer": "ipython3",
   "version": "3.7.12"
  }
 },
 "nbformat": 4,
 "nbformat_minor": 4
}
